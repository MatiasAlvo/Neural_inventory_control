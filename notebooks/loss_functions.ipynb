{
 "cells": [
  {
   "cell_type": "code",
   "execution_count": 1,
   "metadata": {},
   "outputs": [
    {
     "name": "stdout",
     "output_type": "stream",
     "text": [
      "importing Jupyter notebook from shared_imports.ipynb\n"
     ]
    }
   ],
   "source": [
    "import import_ipynb\n",
    "from shared_imports import *"
   ]
  },
  {
   "cell_type": "code",
   "execution_count": 2,
   "metadata": {},
   "outputs": [],
   "source": [
    "class PolicyLoss(nn.Module):\n",
    "    \"\"\"\n",
    "    Loss that returns the sum of the rewards.\n",
    "    \"\"\"\n",
    "    \n",
    "    def __init__(self):\n",
    "        super(PolicyLoss, self).__init__()\n",
    "\n",
    "    def forward(self, observation, action, reward):\n",
    "        return reward.sum()"
   ]
  }
 ],
 "metadata": {
  "kernelspec": {
   "display_name": "MatiasRL",
   "language": "python",
   "name": "python3"
  },
  "language_info": {
   "codemirror_mode": {
    "name": "ipython",
    "version": 3
   },
   "file_extension": ".py",
   "mimetype": "text/x-python",
   "name": "python",
   "nbconvert_exporter": "python",
   "pygments_lexer": "ipython3",
   "version": "3.10.4"
  }
 },
 "nbformat": 4,
 "nbformat_minor": 2
}

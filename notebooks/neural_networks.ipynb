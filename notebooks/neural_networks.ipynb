{
 "cells": [
  {
   "cell_type": "code",
   "execution_count": 25,
   "metadata": {},
   "outputs": [],
   "source": [
    "from ipynb.fs.full.shared_imports import *\n",
    "import yaml"
   ]
  },
  {
   "cell_type": "code",
   "execution_count": 29,
   "metadata": {},
   "outputs": [],
   "source": [
    "class MyNeuralNetwork(nn.Module):\n",
    "\n",
    "    def __init__(self, args, output_size, device):\n",
    "\n",
    "        super().__init__() # initialize super class\n",
    "        self.device = device\n",
    "\n",
    "        self.activation_functions = {\n",
    "            'relu': nn.ReLU(), \n",
    "            'elu': nn.ELU(), \n",
    "            'tanh': nn.Tanh(),\n",
    "            'softmax': nn.Softmax(dim=1),\n",
    "            'softplus': nn.Softplus(),\n",
    "            'sigmoid': nn.Sigmoid(),\n",
    "            }\n",
    "        \n",
    "        self.net = self.create_sequential_net(args, output_size)\n",
    "        if args['initial_bias']:\n",
    "            # position of last linear layer depends on whether there is an output layer activation function\n",
    "            pos = -2 if args['output_layer_activation'] else -1\n",
    "            self.initialize_bias(pos, args['initial_bias'])\n",
    "    \n",
    "    def forward(self, observation):\n",
    "        raise NotImplementedError\n",
    "    \n",
    "    def create_sequential_net(self, args, output_size):\n",
    "\n",
    "        inner_layer_activations = args['inner_layer_activations']\n",
    "        output_layer_activation = args['output_layer_activation']\n",
    "        neurons_per_hidden_layer = args['neurons_per_hidden_layer']\n",
    "        \n",
    "        # define layers\n",
    "        self.layers = []\n",
    "        for i, output_neurons in enumerate(neurons_per_hidden_layer):\n",
    "            self.layers.append(nn.LazyLinear(output_neurons))\n",
    "            self.layers.append(self.activation_functions[inner_layer_activations])\n",
    "\n",
    "        if len(neurons_per_hidden_layer) == 0:\n",
    "            self.layers.append(nn.LazyLinear(output_size))\n",
    "        # if there is at least one inner layer, then we know the last layers shape\n",
    "        # we therefore create a Linear layer in case we want to initialize it to a certain value (not possible with LazyLinear)\n",
    "        else: \n",
    "            self.layers.append(nn.Linear(neurons_per_hidden_layer[-1], output_size))\n",
    "        if output_layer_activation is not None:\n",
    "            self.layers.append(self.activation_functions[output_layer_activation])\n",
    "\n",
    "        # define network as a sequence of layers\n",
    "        return nn.Sequential(*self.layers)\n",
    "\n",
    "    def initialize_bias(self, pos, value):\n",
    "        self.layers[pos].bias.data.fill_(value)\n",
    "\n",
    "class FullyConnectedNN(MyNeuralNetwork):\n",
    "    \"\"\"\n",
    "    Fully connected neural network\n",
    "    \"\"\"\n",
    "    \n",
    "    def forward(self, observation):\n",
    "        \"\"\"\n",
    "        Forward pass\n",
    "        \"\"\"\n",
    "        x = observation['store_inventories']\n",
    "        # inv_pos = x.sum(dim=2)\n",
    "        # flatten input, except for the batch dimension\n",
    "        # x = x.view(x.size(0), -1)\n",
    "        x = x.flatten(start_dim=1)\n",
    "        # add 1.0 to the output of the network to ensure that the output is positive at initialization\n",
    "        # otherwise, when applying the clip operator (equivalently, the positive part operator), we won't 'get a gradient'\n",
    "        x = self.net(x)\n",
    "\n",
    "        # return {'stores': torch.clip(-inv_pos + x[0, 0], min=0)} # clip output to be non-negative\n",
    "        return {'stores': x} # clip output to be non-negative\n",
    "        # return {'stores': torch.clip(x, min=0)} # clip output to be non-negative\n",
    "\n",
    "class BaseStock(MyNeuralNetwork):\n",
    "\n",
    "    def forward(self, observation):\n",
    "        \"\"\"\n",
    "        Forward pass\n",
    "        \"\"\"\n",
    "        x = observation['store_inventories']\n",
    "        inv_pos = x.sum(dim=2)\n",
    "        x = x.flatten(start_dim=1)\n",
    "        x = self.net(torch.tensor([0.0]).to(self.device))  # constant base stock level\n",
    "        return {'stores': torch.clip(x - inv_pos, min=0)} # clip output to be non-negative\n",
    "\n"
   ]
  },
  {
   "cell_type": "code",
   "execution_count": null,
   "metadata": {},
   "outputs": [],
   "source": [
    "def get_architecture(name):\n",
    "\n",
    "    architectures = {\n",
    "        'fully_connected': FullyConnectedNN, \n",
    "        'base_stock': BaseStock\n",
    "        }\n",
    "    return architectures[name]"
   ]
  },
  {
   "cell_type": "code",
   "execution_count": 27,
   "metadata": {},
   "outputs": [],
   "source": [
    "if __name__ == '__main__':\n",
    "    with open('config_files/one_store_backlogged.yml', 'r') as file:\n",
    "        config = yaml.safe_load(file)\n",
    "    keys = 'seeds', 'shifted_seeds', 'problem_params', 'params_by_dataset', 'trainer_params', 'observation_params', 'store_params', 'warehouse_params', 'optimizer_params', 'nn_params'\n",
    "    seeds, shifted_seeds, problem_params, params_by_dataset, trainer_params, observation_params, store_params, warehouse_params, optimizer_params, nn_params = [config[key] for key in keys]"
   ]
  },
  {
   "cell_type": "code",
   "execution_count": 28,
   "metadata": {},
   "outputs": [
    {
     "name": "stderr",
     "output_type": "stream",
     "text": [
      "/user/ma4177/.conda/envs/MatiasRL/lib/python3.10/site-packages/torch/nn/modules/lazy.py:178: UserWarning: Lazy modules are a new feature under heavy development so changes to the API or functionality can happen at any moment.\n",
      "  warnings.warn('Lazy modules are a new feature under heavy development '\n"
     ]
    }
   ],
   "source": [
    "if __name__ == '__main__':\n",
    "    model = FullyConnectedNN(nn_params, output_size=problem_params['n_stores'], device='cpu')"
   ]
  },
  {
   "cell_type": "code",
   "execution_count": null,
   "metadata": {},
   "outputs": [],
   "source": []
  },
  {
   "cell_type": "code",
   "execution_count": null,
   "metadata": {},
   "outputs": [],
   "source": []
  }
 ],
 "metadata": {
  "kernelspec": {
   "display_name": "MatiasRL",
   "language": "python",
   "name": "python3"
  },
  "language_info": {
   "codemirror_mode": {
    "name": "ipython",
    "version": 3
   },
   "file_extension": ".py",
   "mimetype": "text/x-python",
   "name": "python",
   "nbconvert_exporter": "python",
   "pygments_lexer": "ipython3",
   "version": "3.10.4"
  }
 },
 "nbformat": 4,
 "nbformat_minor": 2
}
